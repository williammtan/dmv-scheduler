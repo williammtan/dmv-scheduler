{
 "cells": [
  {
   "cell_type": "code",
   "execution_count": 137,
   "id": "e451788f-9831-463e-ba1d-ec0aa6c9f4fc",
   "metadata": {},
   "outputs": [
    {
     "name": "stdout",
     "output_type": "stream",
     "text": [
      "Collecting undetected_chromedriver\n",
      "  Using cached undetected_chromedriver-3.5.5-py3-none-any.whl\n",
      "Requirement already satisfied: selenium>=4.9.0 in /Users/williamtan/miniconda3/envs/ai_scientist/lib/python3.11/site-packages (from undetected_chromedriver) (4.35.0)\n",
      "Requirement already satisfied: requests in /Users/williamtan/miniconda3/envs/ai_scientist/lib/python3.11/site-packages (from undetected_chromedriver) (2.32.3)\n",
      "Requirement already satisfied: websockets in /Users/williamtan/miniconda3/envs/ai_scientist/lib/python3.11/site-packages (from undetected_chromedriver) (12.0)\n",
      "Requirement already satisfied: urllib3<3.0,>=2.5.0 in /Users/williamtan/miniconda3/envs/ai_scientist/lib/python3.11/site-packages (from urllib3[socks]<3.0,>=2.5.0->selenium>=4.9.0->undetected_chromedriver) (2.5.0)\n",
      "Requirement already satisfied: trio~=0.30.0 in /Users/williamtan/miniconda3/envs/ai_scientist/lib/python3.11/site-packages (from selenium>=4.9.0->undetected_chromedriver) (0.30.0)\n",
      "Requirement already satisfied: trio-websocket~=0.12.2 in /Users/williamtan/miniconda3/envs/ai_scientist/lib/python3.11/site-packages (from selenium>=4.9.0->undetected_chromedriver) (0.12.2)\n",
      "Requirement already satisfied: certifi>=2025.6.15 in /Users/williamtan/miniconda3/envs/ai_scientist/lib/python3.11/site-packages (from selenium>=4.9.0->undetected_chromedriver) (2025.10.5)\n",
      "Requirement already satisfied: typing_extensions~=4.14.0 in /Users/williamtan/miniconda3/envs/ai_scientist/lib/python3.11/site-packages (from selenium>=4.9.0->undetected_chromedriver) (4.14.1)\n",
      "Requirement already satisfied: websocket-client~=1.8.0 in /Users/williamtan/miniconda3/envs/ai_scientist/lib/python3.11/site-packages (from selenium>=4.9.0->undetected_chromedriver) (1.8.0)\n",
      "Requirement already satisfied: charset-normalizer<4,>=2 in /Users/williamtan/miniconda3/envs/ai_scientist/lib/python3.11/site-packages (from requests->undetected_chromedriver) (3.3.2)\n",
      "Requirement already satisfied: idna<4,>=2.5 in /Users/williamtan/miniconda3/envs/ai_scientist/lib/python3.11/site-packages (from requests->undetected_chromedriver) (3.9)\n",
      "Requirement already satisfied: attrs>=23.2.0 in /Users/williamtan/miniconda3/envs/ai_scientist/lib/python3.11/site-packages (from trio~=0.30.0->selenium>=4.9.0->undetected_chromedriver) (24.2.0)\n",
      "Requirement already satisfied: sortedcontainers in /Users/williamtan/miniconda3/envs/ai_scientist/lib/python3.11/site-packages (from trio~=0.30.0->selenium>=4.9.0->undetected_chromedriver) (2.4.0)\n",
      "Requirement already satisfied: outcome in /Users/williamtan/miniconda3/envs/ai_scientist/lib/python3.11/site-packages (from trio~=0.30.0->selenium>=4.9.0->undetected_chromedriver) (1.3.0.post0)\n",
      "Requirement already satisfied: sniffio>=1.3.0 in /Users/williamtan/miniconda3/envs/ai_scientist/lib/python3.11/site-packages (from trio~=0.30.0->selenium>=4.9.0->undetected_chromedriver) (1.3.1)\n",
      "Requirement already satisfied: wsproto>=0.14 in /Users/williamtan/miniconda3/envs/ai_scientist/lib/python3.11/site-packages (from trio-websocket~=0.12.2->selenium>=4.9.0->undetected_chromedriver) (1.2.0)\n",
      "Requirement already satisfied: pysocks!=1.5.7,<2.0,>=1.5.6 in /Users/williamtan/miniconda3/envs/ai_scientist/lib/python3.11/site-packages (from urllib3[socks]<3.0,>=2.5.0->selenium>=4.9.0->undetected_chromedriver) (1.7.1)\n",
      "Requirement already satisfied: h11<1,>=0.9.0 in /Users/williamtan/miniconda3/envs/ai_scientist/lib/python3.11/site-packages (from wsproto>=0.14->trio-websocket~=0.12.2->selenium>=4.9.0->undetected_chromedriver) (0.14.0)\n",
      "Installing collected packages: undetected_chromedriver\n",
      "Successfully installed undetected_chromedriver-3.5.5\n"
     ]
    }
   ],
   "source": [
    "!pip install undetected_chromedriver"
   ]
  },
  {
   "cell_type": "code",
   "execution_count": 31,
   "id": "f02a403d-f936-401e-8fcb-7c069a3cb796",
   "metadata": {},
   "outputs": [],
   "source": [
    "from selenium import webdriver\n",
    "from selenium.webdriver.common.by import By\n",
    "import time\n",
    "from selenium.webdriver.support.ui import WebDriverWait\n",
    "from selenium.webdriver.support import expected_conditions as EC\n",
    "from selenium.common.exceptions import TimeoutException, NoSuchElementException\n",
    "\n",
    "from selenium_recaptcha_solver import RecaptchaSolver\n",
    "\n",
    "from datetime import datetime\n",
    "\n",
    "import re\n",
    "\n",
    "import pgeocode\n",
    "from math import radians, sin, cos, sqrt, atan2"
   ]
  },
  {
   "cell_type": "code",
   "execution_count": 2,
   "id": "f028d399-3cf2-4cc0-ac4a-5293117507b7",
   "metadata": {},
   "outputs": [
    {
     "name": "stdout",
     "output_type": "stream",
     "text": [
      "2453.3486915886065\n"
     ]
    }
   ],
   "source": [
    "import pgeocode\n",
    "from math import radians, sin, cos, sqrt, atan2\n",
    "\n",
    "def haversine(lat1, lon1, lat2, lon2):\n",
    "    R = 3958.8  # Earth radius in miles\n",
    "    dlat = radians(lat2 - lat1)\n",
    "    dlon = radians(lon2 - lon1)\n",
    "    a = sin(dlat / 2)**2 + cos(radians(lat1)) * cos(radians(lat2)) * sin(dlon / 2)**2\n",
    "    c = 2 * atan2(sqrt(a), sqrt(1 - a))\n",
    "    return R * c\n",
    "\n",
    "def distance_between_zips(zip1, zip2, country='US', unit='miles'):\n",
    "    nomi = pgeocode.Nominatim(country)\n",
    "    info1 = nomi.query_postal_code(zip1)\n",
    "    info2 = nomi.query_postal_code(zip2)\n",
    "    if info1 is None or info2 is None:\n",
    "        raise ValueError(\"Invalid ZIP code(s)\")\n",
    "    dist = haversine(info1['latitude'], info1['longitude'], info2['latitude'], info2['longitude'])\n",
    "    return dist if unit == 'miles' else dist * 1.60934  # km\n",
    "\n",
    "# Example\n",
    "print(distance_between_zips('90210', '10001'))  # ~2451 miles (Beverly Hills, CA to New York, NY)"
   ]
  },
  {
   "cell_type": "code",
   "execution_count": 6,
   "id": "c9b87acd-ec30-4870-bdec-8f2d6eb01f36",
   "metadata": {},
   "outputs": [],
   "source": [
    "import undetected_chromedriver as uc\n",
    "driver = uc.Chrome(headless=True,use_subprocess=False)"
   ]
  },
  {
   "cell_type": "code",
   "execution_count": 19,
   "id": "bf97ce53-40d9-42c4-a30c-aee609dce90b",
   "metadata": {},
   "outputs": [],
   "source": [
    "def find_open_schedules():\n",
    "    open_schedules = []\n",
    "    try:\n",
    "        # Find all events with \"Open Times\"\n",
    "        WebDriverWait(driver, 10).until(\n",
    "            EC.presence_of_element_located((By.CLASS_NAME, \"appointments__date-cal-container\"))\n",
    "        )\n",
    "        events = driver.find_elements(By.XPATH, \"//div[contains(@class, 'rbc-event') and .//span[@class='rbc-event-available' and text()='Open Times']]\")\n",
    "        # print(f\"Found {len(events)} open schedule(s)\")\n",
    "\n",
    "        for event in events:\n",
    "            # Extract date from rbc-event-day-num or rbc-event-day-num--mobile\n",
    "            try:\n",
    "                date = event.find_element(By.CLASS_NAME, \"rbc-event-day-num\").text\n",
    "            except NoSuchElementException:\n",
    "                date = event.find_element(By.CLASS_NAME, \"rbc-event-day-num--mobile\").text\n",
    "            open_schedules.append(int(date))\n",
    "            # print(f\"Open schedule on: {date}\")\n",
    "            # Optional: Click the event if needed\n",
    "            # event.click()\n",
    "    except TimeoutException:\n",
    "        print(\"No open schedules found in this context\")\n",
    "    return open_schedules"
   ]
  },
  {
   "cell_type": "code",
   "execution_count": 51,
   "id": "68ed1c2f-344d-4709-b984-bdc08cc486e1",
   "metadata": {},
   "outputs": [
    {
     "data": {
      "text/plain": [
       "[6, 8, 13, 15]"
      ]
     },
     "execution_count": 51,
     "metadata": {},
     "output_type": "execute_result"
    }
   ],
   "source": [
    "find_open_schedules()"
   ]
  },
  {
   "cell_type": "code",
   "execution_count": 85,
   "id": "e1b9fc3c-3c0d-4409-a01e-8e751a9ad00d",
   "metadata": {},
   "outputs": [],
   "source": [
    "driver = webdriver.Chrome()"
   ]
  },
  {
   "cell_type": "code",
   "execution_count": 90,
   "id": "42652f0d-3380-4cfe-81c0-890edba2a90d",
   "metadata": {},
   "outputs": [],
   "source": [
    "# PARAMETERS\n",
    "MAX_DISTANCE = 200\n",
    "YOUR_ZIPCODE = 94301\n",
    "RECIPIENT = \"william@tan.id\""
   ]
  },
  {
   "cell_type": "code",
   "execution_count": null,
   "id": "cae9670b-a96f-4852-819b-94f6915e85b8",
   "metadata": {},
   "outputs": [],
   "source": [
    "driver.get(\"https://www.dmv.ca.gov/portal/appointments/select-appointment-type?option=CID\")\n",
    "\n",
    "found_schedules = []\n",
    "found_locations = []\n",
    "found_distances = []\n",
    "letters = driver.find_elements(By.CLASS_NAME, \"page-numbers\")\n",
    "j = 1\n",
    "while j<25:\n",
    "    time.sleep(2)\n",
    "    i = 0\n",
    "    while (i<len(locations)):\n",
    "        letters = driver.find_elements(By.CLASS_NAME, \"page-numbers\")\n",
    "        l = letters[j]\n",
    "        l.click()\n",
    "        time.sleep(2)\n",
    "        locations = driver.find_elements(By.CLASS_NAME, \"location-results__list-item\")\n",
    "        loc = locations[i]\n",
    "        location_name = loc.text.split('.')[1].split('\\n')[0]\n",
    "        location_postal_code = int(re.search(r\"CA(.*?)\\n\", loc.text).group(1))\n",
    "        select_location_button = loc.find_element(By.CLASS_NAME, \"btn--select-loc\")\n",
    "        select_location_button.click()\n",
    "        time.sleep(1)\n",
    "        today_button = WebDriverWait(driver, 10).until(\n",
    "            EC.element_to_be_clickable((By.XPATH, \"//button[text()='Today']\"))\n",
    "        )\n",
    "        time.sleep(1)\n",
    "        today_button.click()\n",
    "        schedules = [datetime(year=datetime.now().year, month=datetime.now().month, day=day) for day in find_open_schedules()]\n",
    "        distance = distance_between_zips(location_postal_code, YOUR_ZIPCODE)\n",
    "        if distance < MAX_DISTANCE and len(schedules) > 0:\n",
    "            found_schedules.append(schedules)\n",
    "            found_locations.append(location_name)\n",
    "            found_distances.append(distance)\n",
    "\n",
    "        return_button = driver.find_elements(By.CLASS_NAME, \"appointment__panel-btn\")[1]\n",
    "        return_button.click()\n",
    "        time.sleep(3)\n",
    "        # print(len(locations))\n",
    "        # print(locations[i].text)\n",
    "        i+=1\n",
    "    j+=1"
   ]
  },
  {
   "cell_type": "code",
   "execution_count": 94,
   "id": "ba5c5165-cde5-406d-b72c-9b404668eaac",
   "metadata": {},
   "outputs": [
    {
     "name": "stdout",
     "output_type": "stream",
     "text": [
      "Email sent successfully!\n"
     ]
    }
   ],
   "source": [
    "import subprocess\n",
    "from datetime import datetime\n",
    "\n",
    "def send_dmv_summary_email(recipient_email, found_locations, found_schedules, found_distances, send_if_exists=True):\n",
    "    \"\"\"\n",
    "    Sends a neat email summary of DMV appointment findings using the built-in 'mail' command.\n",
    "    Sorts locations from shortest to furthest distance and shows all available times for each.\n",
    "    \n",
    "    Args:\n",
    "    - recipient_email (str): The email address to send the summary to.\n",
    "    - found_locations (list[str]): List of location names.\n",
    "    - found_schedules (list[list[datetime]]): List of lists, where each sublist contains datetime objects for appointments at that location.\n",
    "    - found_distances (list[float]): List of distances corresponding to each location (in miles or km; assumes same unit).\n",
    "    \n",
    "    Note: If found_distances is empty or incomplete, sorting is skipped and locations are shown in original order.\n",
    "    \"\"\"\n",
    "    # Zip the data together for sorting\n",
    "    data = list(zip(found_locations, found_schedules, found_distances if found_distances else [0] * len(found_locations)))\n",
    "    if(len(data) == 0):\n",
    "        print(\"Warning: No locations found, not sending email due to `send_if_exists`=True\")\n",
    "        return\n",
    "    \n",
    "    # Sort by distance (shortest to furthest) if distances are provided\n",
    "    if found_distances:\n",
    "        data.sort(key=lambda x: x[2])\n",
    "    else:\n",
    "        print(\"Warning: No distances provided; showing in original order.\")\n",
    "    \n",
    "    # Format the email body\n",
    "    body = \"DMV Appointments Summary\\n\\n\"\n",
    "    body += \"Here are the available DMV appointment locations, sorted from shortest to furthest distance (if distances were provided):\\n\\n\"\n",
    "    \n",
    "    for location, schedules, distance in data:\n",
    "        body += f\"Location: {location}\\n\"\n",
    "        if found_distances:\n",
    "            body += f\"Distance: {distance} (units unknown)\\n\"\n",
    "        body += \"Available Dates:\\n\"\n",
    "        for dt in schedules:\n",
    "            formatted_date = dt.strftime(\"%B %d, %Y %I:%M %p\")  # e.g., October 08, 2025 12:00 AM\n",
    "            body += f\"- {formatted_date}\\n\"\n",
    "        body += \"\\n\"  # Separator between locations\n",
    "    \n",
    "    body += \"If no dates are shown for a location, none were found.\\n\"\n",
    "    body += \"This summary is based on the latest findings as of the current date.\\n\"\n",
    "    \n",
    "    # Use the mail command to send the email\n",
    "    subject = \"DMV Appointments Summary\"\n",
    "    try:\n",
    "        subprocess.run(['mail', '-s', subject, recipient_email], input=body.encode(), check=True)\n",
    "        print(\"Email sent successfully!\")\n",
    "    except subprocess.CalledProcessError as e:\n",
    "        print(f\"Error sending email: {e}\")\n",
    "        raise\n",
    "\n",
    "# Example usage with provided variables\n",
    "found_schedules = [[datetime(2025, 10, 8, 0, 0), datetime(2025, 10, 9, 0, 0)]]\n",
    "found_locations = [\"Oakland\"]\n",
    "found_distances = [200]  # Empty, so no sorting by distance\n",
    "\n",
    "# Replace with actual recipient\n",
    "send_dmv_summary_email(RECIPIENT, found_locations, found_schedules, found_distances)"
   ]
  },
  {
   "cell_type": "code",
   "execution_count": 78,
   "id": "28d0f900-26b0-4a54-8f03-7562db13f446",
   "metadata": {},
   "outputs": [
    {
     "data": {
      "text/plain": [
       "[]"
      ]
     },
     "execution_count": 78,
     "metadata": {},
     "output_type": "execute_result"
    }
   ],
   "source": [
    "found_locations"
   ]
  },
  {
   "cell_type": "code",
   "execution_count": 25,
   "id": "d8a3b2a4-aa66-4ccd-8259-a045d44505bc",
   "metadata": {},
   "outputs": [
    {
     "data": {
      "text/plain": [
       "[]"
      ]
     },
     "execution_count": 25,
     "metadata": {},
     "output_type": "execute_result"
    }
   ],
   "source": [
    "found_schedules"
   ]
  },
  {
   "cell_type": "code",
   "execution_count": 134,
   "id": "ec9e5da7-9013-41e5-9417-2a31432ae7f4",
   "metadata": {},
   "outputs": [
    {
     "data": {
      "text/plain": [
       "<selenium.webdriver.remote.webelement.WebElement (session=\"9eeedfb98752d8de8b1e94b2290ee372\", element=\"f.6F1584DF7069869CCBA435B716E4BCBF.d.AEE663AF89B675FE9F3C9B37E2CC46FB.e.144\")>"
      ]
     },
     "execution_count": 134,
     "metadata": {},
     "output_type": "execute_result"
    }
   ],
   "source": [
    "driver.find_element(By.XPATH, '//iframe[@title=\"recaptcha challenge expires in two minutes\"]')"
   ]
  },
  {
   "cell_type": "code",
   "execution_count": 135,
   "id": "e29064c6-b15b-4895-9b9d-950e41a4c95a",
   "metadata": {},
   "outputs": [
    {
     "ename": "TimeoutException",
     "evalue": "Message: \nStacktrace:\n0   chromedriver                        0x0000000103067cf8 cxxbridge1$str$ptr + 2895872\n1   chromedriver                        0x000000010305fc34 cxxbridge1$str$ptr + 2862908\n2   chromedriver                        0x0000000102b85570 _RNvCs47EqcsrPRmA_7___rustc35___rust_no_alloc_shim_is_unstable_v2 + 74324\n3   chromedriver                        0x0000000102bccf34 _RNvCs47EqcsrPRmA_7___rustc35___rust_no_alloc_shim_is_unstable_v2 + 367640\n4   chromedriver                        0x0000000102c0e3d8 _RNvCs47EqcsrPRmA_7___rustc35___rust_no_alloc_shim_is_unstable_v2 + 635068\n5   chromedriver                        0x0000000102bc10f8 _RNvCs47EqcsrPRmA_7___rustc35___rust_no_alloc_shim_is_unstable_v2 + 318940\n6   chromedriver                        0x000000010302b81c cxxbridge1$str$ptr + 2648868\n7   chromedriver                        0x000000010302edf8 cxxbridge1$str$ptr + 2662656\n8   chromedriver                        0x000000010300c334 cxxbridge1$str$ptr + 2520636\n9   chromedriver                        0x000000010302f6e0 cxxbridge1$str$ptr + 2664936\n10  chromedriver                        0x0000000102ffda80 cxxbridge1$str$ptr + 2461064\n11  chromedriver                        0x000000010304f014 cxxbridge1$str$ptr + 2794268\n12  chromedriver                        0x000000010304f198 cxxbridge1$str$ptr + 2794656\n13  chromedriver                        0x000000010305f880 cxxbridge1$str$ptr + 2861960\n14  libsystem_pthread.dylib             0x000000018598bc0c _pthread_start + 136\n15  libsystem_pthread.dylib             0x0000000185986b80 thread_start + 8\n",
     "output_type": "error",
     "traceback": [
      "\u001b[0;31m---------------------------------------------------------------------------\u001b[0m",
      "\u001b[0;31mTimeoutException\u001b[0m                          Traceback (most recent call last)",
      "Cell \u001b[0;32mIn[135], line 4\u001b[0m\n\u001b[1;32m      1\u001b[0m solver \u001b[38;5;241m=\u001b[39m RecaptchaSolver(driver\u001b[38;5;241m=\u001b[39mdriver)\n\u001b[1;32m      2\u001b[0m recaptcha_iframe \u001b[38;5;241m=\u001b[39m driver\u001b[38;5;241m.\u001b[39mfind_element(By\u001b[38;5;241m.\u001b[39mXPATH, \u001b[38;5;124m'\u001b[39m\u001b[38;5;124m//iframe[@title=\u001b[39m\u001b[38;5;124m\"\u001b[39m\u001b[38;5;124mrecaptcha challenge expires in two minutes\u001b[39m\u001b[38;5;124m\"\u001b[39m\u001b[38;5;124m]\u001b[39m\u001b[38;5;124m'\u001b[39m)\n\u001b[0;32m----> 4\u001b[0m \u001b[43msolver\u001b[49m\u001b[38;5;241;43m.\u001b[39;49m\u001b[43mclick_recaptcha_v2\u001b[49m\u001b[43m(\u001b[49m\u001b[43miframe\u001b[49m\u001b[38;5;241;43m=\u001b[39;49m\u001b[43mrecaptcha_iframe\u001b[49m\u001b[43m)\u001b[49m\n",
      "File \u001b[0;32m~/miniconda3/envs/ai_scientist/lib/python3.11/site-packages/selenium_recaptcha_solver/solver.py:68\u001b[0m, in \u001b[0;36mRecaptchaSolver.click_recaptcha_v2\u001b[0;34m(self, iframe, by_selector)\u001b[0m\n\u001b[1;32m     65\u001b[0m \u001b[38;5;28;01melse\u001b[39;00m:\n\u001b[1;32m     66\u001b[0m     \u001b[38;5;28mself\u001b[39m\u001b[38;5;241m.\u001b[39m_driver\u001b[38;5;241m.\u001b[39mswitch_to\u001b[38;5;241m.\u001b[39mframe(iframe)\n\u001b[0;32m---> 68\u001b[0m checkbox \u001b[38;5;241m=\u001b[39m \u001b[38;5;28;43mself\u001b[39;49m\u001b[38;5;241;43m.\u001b[39;49m\u001b[43m_wait_for_element\u001b[49m\u001b[43m(\u001b[49m\n\u001b[1;32m     69\u001b[0m \u001b[43m    \u001b[49m\u001b[43mby\u001b[49m\u001b[38;5;241;43m=\u001b[39;49m\u001b[38;5;124;43m'\u001b[39;49m\u001b[38;5;124;43mid\u001b[39;49m\u001b[38;5;124;43m'\u001b[39;49m\u001b[43m,\u001b[49m\n\u001b[1;32m     70\u001b[0m \u001b[43m    \u001b[49m\u001b[43mlocator\u001b[49m\u001b[38;5;241;43m=\u001b[39;49m\u001b[38;5;124;43m'\u001b[39;49m\u001b[38;5;124;43mrecaptcha-anchor\u001b[39;49m\u001b[38;5;124;43m'\u001b[39;49m\u001b[43m,\u001b[49m\n\u001b[1;32m     71\u001b[0m \u001b[43m    \u001b[49m\u001b[43mtimeout\u001b[49m\u001b[38;5;241;43m=\u001b[39;49m\u001b[38;5;241;43m10\u001b[39;49m\u001b[43m,\u001b[49m\n\u001b[1;32m     72\u001b[0m \u001b[43m\u001b[49m\u001b[43m)\u001b[49m\n\u001b[1;32m     74\u001b[0m \u001b[38;5;28mself\u001b[39m\u001b[38;5;241m.\u001b[39m_js_click(checkbox)\n\u001b[1;32m     76\u001b[0m \u001b[38;5;28;01mif\u001b[39;00m checkbox\u001b[38;5;241m.\u001b[39mget_attribute(\u001b[38;5;124m'\u001b[39m\u001b[38;5;124maria-checked\u001b[39m\u001b[38;5;124m'\u001b[39m) \u001b[38;5;241m==\u001b[39m \u001b[38;5;124m'\u001b[39m\u001b[38;5;124mtrue\u001b[39m\u001b[38;5;124m'\u001b[39m:\n",
      "File \u001b[0;32m~/miniconda3/envs/ai_scientist/lib/python3.11/site-packages/selenium_recaptcha_solver/solver.py:237\u001b[0m, in \u001b[0;36mRecaptchaSolver._wait_for_element\u001b[0;34m(self, by, locator, timeout)\u001b[0m\n\u001b[1;32m    221\u001b[0m \u001b[38;5;28;01mdef\u001b[39;00m \u001b[38;5;21m_wait_for_element\u001b[39m(\n\u001b[1;32m    222\u001b[0m     \u001b[38;5;28mself\u001b[39m,\n\u001b[1;32m    223\u001b[0m     by: \u001b[38;5;28mstr\u001b[39m \u001b[38;5;241m=\u001b[39m By\u001b[38;5;241m.\u001b[39mID,\n\u001b[1;32m    224\u001b[0m     locator: Optional[\u001b[38;5;28mstr\u001b[39m] \u001b[38;5;241m=\u001b[39m \u001b[38;5;28;01mNone\u001b[39;00m,\n\u001b[1;32m    225\u001b[0m     timeout: \u001b[38;5;28mfloat\u001b[39m \u001b[38;5;241m=\u001b[39m \u001b[38;5;241m10\u001b[39m,\n\u001b[1;32m    226\u001b[0m ) \u001b[38;5;241m-\u001b[39m\u001b[38;5;241m>\u001b[39m WebElement:\n\u001b[1;32m    227\u001b[0m \u001b[38;5;250m    \u001b[39m\u001b[38;5;124;03m\"\"\"\u001b[39;00m\n\u001b[1;32m    228\u001b[0m \u001b[38;5;124;03m    Try to locate web element within given duration.\u001b[39;00m\n\u001b[1;32m    229\u001b[0m \n\u001b[0;32m   (...)\u001b[0m\n\u001b[1;32m    234\u001b[0m \u001b[38;5;124;03m    :raises selenium.common.exceptions.TimeoutException: if element is not located within given duration\u001b[39;00m\n\u001b[1;32m    235\u001b[0m \u001b[38;5;124;03m    \"\"\"\u001b[39;00m\n\u001b[0;32m--> 237\u001b[0m     \u001b[38;5;28;01mreturn\u001b[39;00m \u001b[43mWebDriverWait\u001b[49m\u001b[43m(\u001b[49m\u001b[38;5;28;43mself\u001b[39;49m\u001b[38;5;241;43m.\u001b[39;49m\u001b[43m_driver\u001b[49m\u001b[43m,\u001b[49m\u001b[43m \u001b[49m\u001b[43mtimeout\u001b[49m\u001b[43m)\u001b[49m\u001b[38;5;241;43m.\u001b[39;49m\u001b[43muntil\u001b[49m\u001b[43m(\u001b[49m\u001b[43mec\u001b[49m\u001b[38;5;241;43m.\u001b[39;49m\u001b[43mvisibility_of_element_located\u001b[49m\u001b[43m(\u001b[49m\u001b[43m(\u001b[49m\u001b[43mby\u001b[49m\u001b[43m,\u001b[49m\u001b[43m \u001b[49m\u001b[43mlocator\u001b[49m\u001b[43m)\u001b[49m\u001b[43m)\u001b[49m\u001b[43m)\u001b[49m\n",
      "File \u001b[0;32m~/miniconda3/envs/ai_scientist/lib/python3.11/site-packages/selenium/webdriver/support/wait.py:138\u001b[0m, in \u001b[0;36mWebDriverWait.until\u001b[0;34m(self, method, message)\u001b[0m\n\u001b[1;32m    136\u001b[0m         \u001b[38;5;28;01mbreak\u001b[39;00m\n\u001b[1;32m    137\u001b[0m     time\u001b[38;5;241m.\u001b[39msleep(\u001b[38;5;28mself\u001b[39m\u001b[38;5;241m.\u001b[39m_poll)\n\u001b[0;32m--> 138\u001b[0m \u001b[38;5;28;01mraise\u001b[39;00m TimeoutException(message, screen, stacktrace)\n",
      "\u001b[0;31mTimeoutException\u001b[0m: Message: \nStacktrace:\n0   chromedriver                        0x0000000103067cf8 cxxbridge1$str$ptr + 2895872\n1   chromedriver                        0x000000010305fc34 cxxbridge1$str$ptr + 2862908\n2   chromedriver                        0x0000000102b85570 _RNvCs47EqcsrPRmA_7___rustc35___rust_no_alloc_shim_is_unstable_v2 + 74324\n3   chromedriver                        0x0000000102bccf34 _RNvCs47EqcsrPRmA_7___rustc35___rust_no_alloc_shim_is_unstable_v2 + 367640\n4   chromedriver                        0x0000000102c0e3d8 _RNvCs47EqcsrPRmA_7___rustc35___rust_no_alloc_shim_is_unstable_v2 + 635068\n5   chromedriver                        0x0000000102bc10f8 _RNvCs47EqcsrPRmA_7___rustc35___rust_no_alloc_shim_is_unstable_v2 + 318940\n6   chromedriver                        0x000000010302b81c cxxbridge1$str$ptr + 2648868\n7   chromedriver                        0x000000010302edf8 cxxbridge1$str$ptr + 2662656\n8   chromedriver                        0x000000010300c334 cxxbridge1$str$ptr + 2520636\n9   chromedriver                        0x000000010302f6e0 cxxbridge1$str$ptr + 2664936\n10  chromedriver                        0x0000000102ffda80 cxxbridge1$str$ptr + 2461064\n11  chromedriver                        0x000000010304f014 cxxbridge1$str$ptr + 2794268\n12  chromedriver                        0x000000010304f198 cxxbridge1$str$ptr + 2794656\n13  chromedriver                        0x000000010305f880 cxxbridge1$str$ptr + 2861960\n14  libsystem_pthread.dylib             0x000000018598bc0c _pthread_start + 136\n15  libsystem_pthread.dylib             0x0000000185986b80 thread_start + 8\n"
     ]
    }
   ],
   "source": [
    "\n",
    "solver = RecaptchaSolver(driver=driver)\n",
    "recaptcha_iframe = driver.find_element(By.XPATH, '//iframe[@title=\"recaptcha challenge expires in two minutes\"]')\n",
    "\n",
    "solver.click_recaptcha_v2(iframe=recaptcha_iframe)"
   ]
  }
 ],
 "metadata": {
  "kernelspec": {
   "display_name": "Python 3 (ipykernel)",
   "language": "python",
   "name": "python3"
  },
  "language_info": {
   "codemirror_mode": {
    "name": "ipython",
    "version": 3
   },
   "file_extension": ".py",
   "mimetype": "text/x-python",
   "name": "python",
   "nbconvert_exporter": "python",
   "pygments_lexer": "ipython3",
   "version": "3.11.9"
  }
 },
 "nbformat": 4,
 "nbformat_minor": 5
}
